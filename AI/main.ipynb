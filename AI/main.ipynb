{
 "cells": [
  {
   "cell_type": "code",
   "execution_count": 157,
   "metadata": {},
   "outputs": [],
   "source": [
    "import tensorflow as tf\n",
    "import tensorflowjs as tfjs\n",
    "import pandas as pd\n",
    "import numpy as np"
   ]
  },
  {
   "cell_type": "code",
   "execution_count": 150,
   "metadata": {},
   "outputs": [
    {
     "data": {
      "text/html": [
       "<div>\n",
       "<style scoped>\n",
       "    .dataframe tbody tr th:only-of-type {\n",
       "        vertical-align: middle;\n",
       "    }\n",
       "\n",
       "    .dataframe tbody tr th {\n",
       "        vertical-align: top;\n",
       "    }\n",
       "\n",
       "    .dataframe thead th {\n",
       "        text-align: right;\n",
       "    }\n",
       "</style>\n",
       "<table border=\"1\" class=\"dataframe\">\n",
       "  <thead>\n",
       "    <tr style=\"text-align: right;\">\n",
       "      <th></th>\n",
       "      <th>text</th>\n",
       "      <th>label</th>\n",
       "    </tr>\n",
       "  </thead>\n",
       "  <tbody>\n",
       "    <tr>\n",
       "      <th>0</th>\n",
       "      <td>i won the cricket match</td>\n",
       "      <td>1</td>\n",
       "    </tr>\n",
       "    <tr>\n",
       "      <th>1</th>\n",
       "      <td>i ranked first in my class</td>\n",
       "      <td>1</td>\n",
       "    </tr>\n",
       "    <tr>\n",
       "      <th>2</th>\n",
       "      <td>i topped in my semesters!</td>\n",
       "      <td>1</td>\n",
       "    </tr>\n",
       "    <tr>\n",
       "      <th>3</th>\n",
       "      <td>i didnt feel humiliated</td>\n",
       "      <td>0</td>\n",
       "    </tr>\n",
       "    <tr>\n",
       "      <th>4</th>\n",
       "      <td>i am not so happy today</td>\n",
       "      <td>0</td>\n",
       "    </tr>\n",
       "  </tbody>\n",
       "</table>\n",
       "</div>"
      ],
      "text/plain": [
       "                         text  label\n",
       "0     i won the cricket match      1\n",
       "1  i ranked first in my class      1\n",
       "2   i topped in my semesters!      1\n",
       "3     i didnt feel humiliated      0\n",
       "4     i am not so happy today      0"
      ]
     },
     "execution_count": 150,
     "metadata": {},
     "output_type": "execute_result"
    }
   ],
   "source": [
    "dataTrain = pd.read_csv('./train.csv')\n",
    "dataTest = pd.read_csv('./test.csv')\n",
    "dataValidate = pd.read_csv('./validate.csv')\n",
    "dataTrain.head()"
   ]
  },
  {
   "cell_type": "code",
   "execution_count": 151,
   "metadata": {},
   "outputs": [
    {
     "data": {
      "text/plain": [
       "((16011, 66), (16011, 6), 15220)"
      ]
     },
     "execution_count": 151,
     "metadata": {},
     "output_type": "execute_result"
    }
   ],
   "source": [
    "tokenizer = tf.keras.preprocessing.text.Tokenizer()\n",
    "tokenizer.oov_token = '<shobdobhandarErBahire>'\n",
    "tokenizer.fit_on_texts(dataTrain['text'])\n",
    "vocab = tokenizer.word_index\n",
    "xTrain = tf.keras.preprocessing.sequence.pad_sequences(tokenizer.texts_to_sequences(dataTrain['text']))\n",
    "xTest = tf.keras.preprocessing.sequence.pad_sequences(tokenizer.texts_to_sequences(dataTest['text']))\n",
    "xValidate = tf.keras.preprocessing.sequence.pad_sequences(tokenizer.texts_to_sequences(dataValidate['text']))\n",
    "yTrain = tf.keras.utils.to_categorical(dataTrain['label'])\n",
    "yTest = tf.keras.utils.to_categorical(dataTest['label'])\n",
    "yValidate = tf.keras.utils.to_categorical(dataValidate['label'])\n",
    "vocabSize = len(vocab)\n",
    "xTrain.shape, yTrain.shape, vocabSize"
   ]
  },
  {
   "cell_type": "code",
   "execution_count": 152,
   "metadata": {},
   "outputs": [],
   "source": [
    "model = tf.keras.Sequential()\n",
    "model.add(tf.keras.layers.Embedding(vocabSize, 64, input_length=66))\n",
    "model.add(tf.keras.layers.Bidirectional(tf.keras.layers.LSTM(64)))\n",
    "model.add(tf.keras.layers.Dense(64, activation='relu'))\n",
    "model.add(tf.keras.layers.Dense(6, activation='softmax'))\n",
    "\n",
    "model.compile(loss='categorical_crossentropy' , optimizer='adam', metrics=['accuracy'])"
   ]
  },
  {
   "cell_type": "code",
   "execution_count": 153,
   "metadata": {},
   "outputs": [
    {
     "name": "stdout",
     "output_type": "stream",
     "text": [
      "Epoch 1/15\n",
      "501/501 [==============================] - ETA: 0s - loss: 1.1322 - accuracy: 0.5715WARNING:tensorflow:Model was constructed with shape (None, 66) for input KerasTensor(type_spec=TensorSpec(shape=(None, 66), dtype=tf.float32, name='embedding_28_input'), name='embedding_28_input', description=\"created by layer 'embedding_28_input'\"), but it was called on an input with incompatible shape (None, 61).\n",
      "501/501 [==============================] - 15s 20ms/step - loss: 1.1322 - accuracy: 0.5715 - val_loss: 0.6054 - val_accuracy: 0.7870\n",
      "Epoch 2/15\n",
      "501/501 [==============================] - 9s 18ms/step - loss: 0.3599 - accuracy: 0.8765 - val_loss: 0.3068 - val_accuracy: 0.8985\n",
      "Epoch 3/15\n",
      "501/501 [==============================] - 9s 18ms/step - loss: 0.1603 - accuracy: 0.9455 - val_loss: 0.2619 - val_accuracy: 0.9160\n",
      "Epoch 4/15\n",
      "501/501 [==============================] - 10s 21ms/step - loss: 0.0921 - accuracy: 0.9679 - val_loss: 0.2614 - val_accuracy: 0.9210\n",
      "Epoch 5/15\n",
      "501/501 [==============================] - 9s 18ms/step - loss: 0.0649 - accuracy: 0.9777 - val_loss: 0.2978 - val_accuracy: 0.9125\n",
      "Epoch 6/15\n",
      "501/501 [==============================] - 9s 18ms/step - loss: 0.0533 - accuracy: 0.9816 - val_loss: 0.2997 - val_accuracy: 0.9155\n",
      "Epoch 7/15\n",
      "501/501 [==============================] - 9s 18ms/step - loss: 0.0498 - accuracy: 0.9837 - val_loss: 0.3011 - val_accuracy: 0.9140\n",
      "Epoch 8/15\n",
      "501/501 [==============================] - 9s 18ms/step - loss: 0.0398 - accuracy: 0.9866 - val_loss: 0.3670 - val_accuracy: 0.9170\n",
      "Epoch 9/15\n",
      "501/501 [==============================] - 9s 18ms/step - loss: 0.0369 - accuracy: 0.9871 - val_loss: 0.3343 - val_accuracy: 0.9135\n",
      "Epoch 10/15\n",
      "501/501 [==============================] - 9s 18ms/step - loss: 0.0316 - accuracy: 0.9890 - val_loss: 0.3275 - val_accuracy: 0.9145\n",
      "Epoch 11/15\n",
      "501/501 [==============================] - 9s 17ms/step - loss: 0.0258 - accuracy: 0.9913 - val_loss: 0.3564 - val_accuracy: 0.9125\n",
      "Epoch 12/15\n",
      "501/501 [==============================] - 10s 21ms/step - loss: 0.0191 - accuracy: 0.9925 - val_loss: 0.3503 - val_accuracy: 0.9185\n",
      "Epoch 13/15\n",
      "501/501 [==============================] - 9s 18ms/step - loss: 0.0155 - accuracy: 0.9945 - val_loss: 0.3662 - val_accuracy: 0.9085\n",
      "Epoch 14/15\n",
      "501/501 [==============================] - 9s 18ms/step - loss: 0.0219 - accuracy: 0.9924 - val_loss: 0.4270 - val_accuracy: 0.9140\n",
      "Epoch 15/15\n",
      "501/501 [==============================] - 9s 18ms/step - loss: 0.0231 - accuracy: 0.9918 - val_loss: 0.3619 - val_accuracy: 0.9185\n"
     ]
    },
    {
     "data": {
      "text/plain": [
       "<keras.callbacks.History at 0x1b8e4bf5a30>"
      ]
     },
     "execution_count": 153,
     "metadata": {},
     "output_type": "execute_result"
    }
   ],
   "source": [
    "model.fit(xTrain, yTrain, epochs=15, validation_data=(xValidate, yValidate))"
   ]
  },
  {
   "cell_type": "code",
   "execution_count": 154,
   "metadata": {},
   "outputs": [
    {
     "name": "stdout",
     "output_type": "stream",
     "text": [
      "63/63 [==============================] - 1s 14ms/step - loss: 0.3701 - accuracy: 0.9115\n"
     ]
    },
    {
     "data": {
      "text/plain": [
       "[0.3700506091117859, 0.9114999771118164]"
      ]
     },
     "execution_count": 154,
     "metadata": {},
     "output_type": "execute_result"
    }
   ],
   "source": [
    "model.evaluate(xTest, yTest)"
   ]
  },
  {
   "cell_type": "code",
   "execution_count": 155,
   "metadata": {},
   "outputs": [
    {
     "name": "stdout",
     "output_type": "stream",
     "text": [
      "mom recovered from covid [[0.01767339 0.03039624 0.00092644 0.15030152 0.79787827 0.00282411]] fear\n"
     ]
    }
   ],
   "source": [
    "inpt = input('enter the text')\n",
    "labels_dict = {0:'sadness', 1:'joy', 2:'love', 3:'anger', 4:'fear', 5:'surprise'}\n",
    "text = tf.keras.preprocessing.sequence.pad_sequences(tokenizer.texts_to_sequences([inpt]), padding='pre', maxlen=66)\n",
    "\n",
    "print(inpt, model.predict(text), labels_dict[np.argmax(model.predict(text))])"
   ]
  },
  {
   "cell_type": "code",
   "execution_count": 156,
   "metadata": {},
   "outputs": [],
   "source": [
    "model.save('ai-model.h5')\n",
    "tfjs.converters.save_keras_model(model, 'C:\\\\Users\\\\007ra\\\\Documents\\\\Codes\\\\AI-ML\\\\sentiment-analyzer\\\\AI')"
   ]
  }
 ],
 "metadata": {
  "interpreter": {
   "hash": "e38c6d658e3c4e97a4d48d96dcbbb50367a88e38ba291af5da90eb5fcad12b1b"
  },
  "kernelspec": {
   "display_name": "Python 3.9.12 ('dataScience')",
   "language": "python",
   "name": "python3"
  },
  "language_info": {
   "codemirror_mode": {
    "name": "ipython",
    "version": 3
   },
   "file_extension": ".py",
   "mimetype": "text/x-python",
   "name": "python",
   "nbconvert_exporter": "python",
   "pygments_lexer": "ipython3",
   "version": "3.9.12"
  },
  "orig_nbformat": 4
 },
 "nbformat": 4,
 "nbformat_minor": 2
}
