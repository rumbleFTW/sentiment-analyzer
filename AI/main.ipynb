{
 "cells": [
  {
   "cell_type": "code",
   "execution_count": 1,
   "metadata": {},
   "outputs": [],
   "source": [
    "import tensorflow as tf\n",
    "import tensorflowjs as tfjs\n",
    "import pandas as pd\n",
    "import numpy as np\n",
    "import json"
   ]
  },
  {
   "cell_type": "code",
   "execution_count": 2,
   "metadata": {},
   "outputs": [
    {
     "data": {
      "text/html": [
       "<div>\n",
       "<style scoped>\n",
       "    .dataframe tbody tr th:only-of-type {\n",
       "        vertical-align: middle;\n",
       "    }\n",
       "\n",
       "    .dataframe tbody tr th {\n",
       "        vertical-align: top;\n",
       "    }\n",
       "\n",
       "    .dataframe thead th {\n",
       "        text-align: right;\n",
       "    }\n",
       "</style>\n",
       "<table border=\"1\" class=\"dataframe\">\n",
       "  <thead>\n",
       "    <tr style=\"text-align: right;\">\n",
       "      <th></th>\n",
       "      <th>text</th>\n",
       "      <th>label</th>\n",
       "    </tr>\n",
       "  </thead>\n",
       "  <tbody>\n",
       "    <tr>\n",
       "      <th>0</th>\n",
       "      <td>i won the cricket match</td>\n",
       "      <td>1</td>\n",
       "    </tr>\n",
       "    <tr>\n",
       "      <th>1</th>\n",
       "      <td>i ranked first in my class</td>\n",
       "      <td>1</td>\n",
       "    </tr>\n",
       "    <tr>\n",
       "      <th>2</th>\n",
       "      <td>i topped in my semesters!</td>\n",
       "      <td>1</td>\n",
       "    </tr>\n",
       "    <tr>\n",
       "      <th>3</th>\n",
       "      <td>i didnt feel humiliated</td>\n",
       "      <td>0</td>\n",
       "    </tr>\n",
       "    <tr>\n",
       "      <th>4</th>\n",
       "      <td>i am not so happy today</td>\n",
       "      <td>0</td>\n",
       "    </tr>\n",
       "  </tbody>\n",
       "</table>\n",
       "</div>"
      ],
      "text/plain": [
       "                         text  label\n",
       "0     i won the cricket match      1\n",
       "1  i ranked first in my class      1\n",
       "2   i topped in my semesters!      1\n",
       "3     i didnt feel humiliated      0\n",
       "4     i am not so happy today      0"
      ]
     },
     "execution_count": 2,
     "metadata": {},
     "output_type": "execute_result"
    }
   ],
   "source": [
    "dataTrain = pd.read_csv('./train.csv')\n",
    "dataTest = pd.read_csv('./test.csv')\n",
    "dataValidate = pd.read_csv('./validate.csv')\n",
    "dataTrain.head()"
   ]
  },
  {
   "cell_type": "code",
   "execution_count": 5,
   "metadata": {},
   "outputs": [
    {
     "data": {
      "text/plain": [
       "((16011, 66), (16011, 6), 15220)"
      ]
     },
     "execution_count": 5,
     "metadata": {},
     "output_type": "execute_result"
    }
   ],
   "source": [
    "tokenizer = tf.keras.preprocessing.text.Tokenizer()\n",
    "tokenizer.oov_token = '<shobdobhandarErBahire>'\n",
    "tokenizer.fit_on_texts(dataTrain['text'])\n",
    "vocab = tokenizer.word_index\n",
    "f = open('tokenizer.json', 'w')\n",
    "f.write(json.dumps(vocab))\n",
    "f.close()\n",
    "# print(vocab)\n",
    "xTrain = tf.keras.preprocessing.sequence.pad_sequences(tokenizer.texts_to_sequences(dataTrain['text']))\n",
    "xTest = tf.keras.preprocessing.sequence.pad_sequences(tokenizer.texts_to_sequences(dataTest['text']))\n",
    "xValidate = tf.keras.preprocessing.sequence.pad_sequences(tokenizer.texts_to_sequences(dataValidate['text']))\n",
    "yTrain = tf.keras.utils.to_categorical(dataTrain['label'])\n",
    "yTest = tf.keras.utils.to_categorical(dataTest['label'])\n",
    "yValidate = tf.keras.utils.to_categorical(dataValidate['label'])\n",
    "vocabSize = len(vocab)\n",
    "xTrain.shape, yTrain.shape, vocabSize\n",
    "# xTrain[0]"
   ]
  },
  {
   "cell_type": "code",
   "execution_count": 6,
   "metadata": {},
   "outputs": [],
   "source": [
    "model = tf.keras.Sequential()\n",
    "model.add(tf.keras.layers.Embedding(vocabSize, 64, input_length=66))\n",
    "model.add(tf.keras.layers.Bidirectional(tf.keras.layers.LSTM(64)))\n",
    "model.add(tf.keras.layers.Dense(64, activation='relu'))\n",
    "model.add(tf.keras.layers.Dense(6, activation='softmax'))\n",
    "\n",
    "model.compile(loss='categorical_crossentropy' , optimizer='adam', metrics=['accuracy'])"
   ]
  },
  {
   "cell_type": "code",
   "execution_count": 7,
   "metadata": {},
   "outputs": [
    {
     "name": "stdout",
     "output_type": "stream",
     "text": [
      "Epoch 1/15\n",
      "499/501 [============================>.] - ETA: 0s - loss: 1.1346 - accuracy: 0.5443WARNING:tensorflow:Model was constructed with shape (None, 66) for input KerasTensor(type_spec=TensorSpec(shape=(None, 66), dtype=tf.float32, name='embedding_input'), name='embedding_input', description=\"created by layer 'embedding_input'\"), but it was called on an input with incompatible shape (None, 61).\n",
      "501/501 [==============================] - 15s 15ms/step - loss: 1.1332 - accuracy: 0.5448 - val_loss: 0.6146 - val_accuracy: 0.7740\n",
      "Epoch 2/15\n",
      "501/501 [==============================] - 6s 13ms/step - loss: 0.3615 - accuracy: 0.8708 - val_loss: 0.3081 - val_accuracy: 0.9015\n",
      "Epoch 3/15\n",
      "501/501 [==============================] - 7s 14ms/step - loss: 0.1593 - accuracy: 0.9454 - val_loss: 0.2618 - val_accuracy: 0.9140\n",
      "Epoch 4/15\n",
      "501/501 [==============================] - 6s 13ms/step - loss: 0.0946 - accuracy: 0.9676 - val_loss: 0.3669 - val_accuracy: 0.8920\n",
      "Epoch 5/15\n",
      "501/501 [==============================] - 6s 13ms/step - loss: 0.0684 - accuracy: 0.9768 - val_loss: 0.2827 - val_accuracy: 0.9195\n",
      "Epoch 6/15\n",
      "501/501 [==============================] - 6s 12ms/step - loss: 0.0475 - accuracy: 0.9849 - val_loss: 0.2733 - val_accuracy: 0.9215\n",
      "Epoch 7/15\n",
      "501/501 [==============================] - 6s 12ms/step - loss: 0.0455 - accuracy: 0.9842 - val_loss: 0.2936 - val_accuracy: 0.9160\n",
      "Epoch 8/15\n",
      "501/501 [==============================] - 6s 13ms/step - loss: 0.0358 - accuracy: 0.9884 - val_loss: 0.3229 - val_accuracy: 0.9110\n",
      "Epoch 9/15\n",
      "501/501 [==============================] - 6s 13ms/step - loss: 0.0278 - accuracy: 0.9904 - val_loss: 0.3946 - val_accuracy: 0.9080\n",
      "Epoch 10/15\n",
      "501/501 [==============================] - 7s 13ms/step - loss: 0.0254 - accuracy: 0.9910 - val_loss: 0.3495 - val_accuracy: 0.9130\n",
      "Epoch 11/15\n",
      "501/501 [==============================] - 7s 13ms/step - loss: 0.0350 - accuracy: 0.9879 - val_loss: 0.3630 - val_accuracy: 0.9090\n",
      "Epoch 12/15\n",
      "501/501 [==============================] - 7s 14ms/step - loss: 0.0318 - accuracy: 0.9896 - val_loss: 0.3501 - val_accuracy: 0.9185\n",
      "Epoch 13/15\n",
      "501/501 [==============================] - 7s 14ms/step - loss: 0.0214 - accuracy: 0.9922 - val_loss: 0.3992 - val_accuracy: 0.9140\n",
      "Epoch 14/15\n",
      "501/501 [==============================] - 7s 13ms/step - loss: 0.0180 - accuracy: 0.9937 - val_loss: 0.3912 - val_accuracy: 0.9160\n",
      "Epoch 15/15\n",
      "501/501 [==============================] - 7s 13ms/step - loss: 0.0168 - accuracy: 0.9941 - val_loss: 0.4137 - val_accuracy: 0.9150\n"
     ]
    },
    {
     "data": {
      "text/plain": [
       "<keras.callbacks.History at 0x1e466287160>"
      ]
     },
     "execution_count": 7,
     "metadata": {},
     "output_type": "execute_result"
    }
   ],
   "source": [
    "model.fit(xTrain, yTrain, epochs=15, validation_data=(xValidate, yValidate))"
   ]
  },
  {
   "cell_type": "code",
   "execution_count": 8,
   "metadata": {},
   "outputs": [
    {
     "name": "stdout",
     "output_type": "stream",
     "text": [
      "63/63 [==============================] - 1s 11ms/step - loss: 0.3887 - accuracy: 0.9110\n"
     ]
    },
    {
     "data": {
      "text/plain": [
       "[0.3887183666229248, 0.9110000133514404]"
      ]
     },
     "execution_count": 8,
     "metadata": {},
     "output_type": "execute_result"
    }
   ],
   "source": [
    "model.evaluate(xTest, yTest)"
   ]
  },
  {
   "cell_type": "code",
   "execution_count": 10,
   "metadata": {},
   "outputs": [
    {
     "name": "stdout",
     "output_type": "stream",
     "text": [
      "[[   0    0    0    0    0    0    0    0    0    0    0    0    0    0\n",
      "     0    0    0    0    0    0    0    0    0    0    0    0    0    0\n",
      "     0    0    0    0    0    0    0    0    0    0    0    0    0    0\n",
      "     0    0    0    0    0    0    0    0    0    0    0    0    0    0\n",
      "     0    0    0 2970  678    2   24 1477    7  628]] [[0.19357768 0.10633751 0.00724811 0.6083305  0.07997274 0.00453346]] anger\n"
     ]
    }
   ],
   "source": [
    "inpt = input('enter the text')\n",
    "labels_dict = {0:'sadness', 1:'joy', 2:'love', 3:'anger', 4:'fear', 5:'surprise'}\n",
    "text = tf.keras.preprocessing.sequence.pad_sequences(tokenizer.texts_to_sequences([inpt]), padding='pre', maxlen=66)\n",
    "\n",
    "print(text, model.predict(text), labels_dict[np.argmax(model.predict(text))])"
   ]
  },
  {
   "cell_type": "code",
   "execution_count": 7,
   "metadata": {},
   "outputs": [],
   "source": [
    "# model.save('ai-model.h5')\n",
    "tfjs.converters.save_keras_model(model, 'C:\\\\Users\\\\007ra\\\\Documents\\\\Codes\\\\AI-ML\\\\sentiment-analyzer\\\\AI')"
   ]
  }
 ],
 "metadata": {
  "interpreter": {
   "hash": "e38c6d658e3c4e97a4d48d96dcbbb50367a88e38ba291af5da90eb5fcad12b1b"
  },
  "kernelspec": {
   "display_name": "Python 3.9.12 ('dataScience')",
   "language": "python",
   "name": "python3"
  },
  "language_info": {
   "codemirror_mode": {
    "name": "ipython",
    "version": 3
   },
   "file_extension": ".py",
   "mimetype": "text/x-python",
   "name": "python",
   "nbconvert_exporter": "python",
   "pygments_lexer": "ipython3",
   "version": "3.9.12"
  },
  "orig_nbformat": 4
 },
 "nbformat": 4,
 "nbformat_minor": 2
}
